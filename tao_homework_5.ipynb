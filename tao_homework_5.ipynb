{
 "cells": [
  {
   "cell_type": "code",
   "execution_count": 1,
   "metadata": {},
   "outputs": [],
   "source": [
    "\n",
    "import pandas as pd\n",
    "\n",
    "import matplotlib.pyplot as plt\n",
    "\n",
    "import seaborn as sns"
   ]
  },
  {
   "cell_type": "code",
   "execution_count": 2,
   "metadata": {},
   "outputs": [],
   "source": [
    "file_input_city_csv = \"generated_data/city_data.csv\"\n",
    "file_input_rides_csv = \"generated_data/ride_data.csv\""
   ]
  },
  {
   "cell_type": "code",
   "execution_count": 3,
   "metadata": {},
   "outputs": [
    {
     "data": {
      "text/html": [
       "<div>\n",
       "<style scoped>\n",
       "    .dataframe tbody tr th:only-of-type {\n",
       "        vertical-align: middle;\n",
       "    }\n",
       "\n",
       "    .dataframe tbody tr th {\n",
       "        vertical-align: top;\n",
       "    }\n",
       "\n",
       "    .dataframe thead th {\n",
       "        text-align: right;\n",
       "    }\n",
       "</style>\n",
       "<table border=\"1\" class=\"dataframe\">\n",
       "  <thead>\n",
       "    <tr style=\"text-align: right;\">\n",
       "      <th></th>\n",
       "      <th>city</th>\n",
       "      <th>driver_count</th>\n",
       "      <th>type</th>\n",
       "    </tr>\n",
       "  </thead>\n",
       "  <tbody>\n",
       "    <tr>\n",
       "      <th>0</th>\n",
       "      <td>Lake Ambermouth</td>\n",
       "      <td>29</td>\n",
       "      <td>Urban</td>\n",
       "    </tr>\n",
       "    <tr>\n",
       "      <th>1</th>\n",
       "      <td>Danielton</td>\n",
       "      <td>5</td>\n",
       "      <td>Urban</td>\n",
       "    </tr>\n",
       "    <tr>\n",
       "      <th>2</th>\n",
       "      <td>Nicholasshire</td>\n",
       "      <td>18</td>\n",
       "      <td>Urban</td>\n",
       "    </tr>\n",
       "    <tr>\n",
       "      <th>3</th>\n",
       "      <td>Owensburgh</td>\n",
       "      <td>55</td>\n",
       "      <td>Urban</td>\n",
       "    </tr>\n",
       "    <tr>\n",
       "      <th>4</th>\n",
       "      <td>New Alexandrastad</td>\n",
       "      <td>5</td>\n",
       "      <td>Urban</td>\n",
       "    </tr>\n",
       "  </tbody>\n",
       "</table>\n",
       "</div>"
      ],
      "text/plain": [
       "                city  driver_count   type\n",
       "0    Lake Ambermouth            29  Urban\n",
       "1          Danielton             5  Urban\n",
       "2      Nicholasshire            18  Urban\n",
       "3         Owensburgh            55  Urban\n",
       "4  New Alexandrastad             5  Urban"
      ]
     },
     "execution_count": 3,
     "metadata": {},
     "output_type": "execute_result"
    }
   ],
   "source": [
    "\n",
    "city_df = pd.read_csv(file_input_city_csv)\n",
    "city_df.head()\n"
   ]
  },
  {
   "cell_type": "code",
   "execution_count": 4,
   "metadata": {},
   "outputs": [
    {
     "data": {
      "text/html": [
       "<div>\n",
       "<style scoped>\n",
       "    .dataframe tbody tr th:only-of-type {\n",
       "        vertical-align: middle;\n",
       "    }\n",
       "\n",
       "    .dataframe tbody tr th {\n",
       "        vertical-align: top;\n",
       "    }\n",
       "\n",
       "    .dataframe thead th {\n",
       "        text-align: right;\n",
       "    }\n",
       "</style>\n",
       "<table border=\"1\" class=\"dataframe\">\n",
       "  <thead>\n",
       "    <tr style=\"text-align: right;\">\n",
       "      <th></th>\n",
       "      <th>city</th>\n",
       "      <th>date</th>\n",
       "      <th>fare</th>\n",
       "      <th>ride_id</th>\n",
       "    </tr>\n",
       "  </thead>\n",
       "  <tbody>\n",
       "    <tr>\n",
       "      <th>0</th>\n",
       "      <td>Moralesmouth</td>\n",
       "      <td>2018-02-18 08:26:55</td>\n",
       "      <td>16.92</td>\n",
       "      <td>809189561605</td>\n",
       "    </tr>\n",
       "    <tr>\n",
       "      <th>1</th>\n",
       "      <td>South Douglasport</td>\n",
       "      <td>2018-02-14 17:35:55</td>\n",
       "      <td>24.01</td>\n",
       "      <td>185005986938</td>\n",
       "    </tr>\n",
       "    <tr>\n",
       "      <th>2</th>\n",
       "      <td>Roseshire</td>\n",
       "      <td>2018-01-14 14:08:37</td>\n",
       "      <td>9.14</td>\n",
       "      <td>6116304082209</td>\n",
       "    </tr>\n",
       "    <tr>\n",
       "      <th>3</th>\n",
       "      <td>Meyerstad</td>\n",
       "      <td>2018-01-24 19:15:23</td>\n",
       "      <td>11.46</td>\n",
       "      <td>2313840895285</td>\n",
       "    </tr>\n",
       "    <tr>\n",
       "      <th>4</th>\n",
       "      <td>Laurafort</td>\n",
       "      <td>2018-01-18 07:56:00</td>\n",
       "      <td>34.91</td>\n",
       "      <td>7956887386900</td>\n",
       "    </tr>\n",
       "  </tbody>\n",
       "</table>\n",
       "</div>"
      ],
      "text/plain": [
       "                city                 date   fare        ride_id\n",
       "0       Moralesmouth  2018-02-18 08:26:55  16.92   809189561605\n",
       "1  South Douglasport  2018-02-14 17:35:55  24.01   185005986938\n",
       "2          Roseshire  2018-01-14 14:08:37   9.14  6116304082209\n",
       "3          Meyerstad  2018-01-24 19:15:23  11.46  2313840895285\n",
       "4          Laurafort  2018-01-18 07:56:00  34.91  7956887386900"
      ]
     },
     "execution_count": 4,
     "metadata": {},
     "output_type": "execute_result"
    }
   ],
   "source": [
    "rides_df = pd.read_csv(file_input_rides_csv)\n",
    "rides_df.head()"
   ]
  },
  {
   "cell_type": "code",
   "execution_count": 5,
   "metadata": {},
   "outputs": [],
   "source": [
    "group_by_city_rides_df = rides_df.groupby('city')\n"
   ]
  },
  {
   "cell_type": "code",
   "execution_count": 6,
   "metadata": {},
   "outputs": [
    {
     "data": {
      "text/plain": [
       "city\n",
       "Alanton        8\n",
       "Alicemouth    17\n",
       "Annshire      26\n",
       "Arthurland    19\n",
       "Berryland     28\n",
       "Name: ride_id, dtype: int64"
      ]
     },
     "execution_count": 6,
     "metadata": {},
     "output_type": "execute_result"
    }
   ],
   "source": [
    "rides_count_per_city = group_by_city_rides_df.ride_id.count()\n",
    "rides_count_per_city.head()"
   ]
  },
  {
   "cell_type": "code",
   "execution_count": 7,
   "metadata": {},
   "outputs": [
    {
     "data": {
      "text/plain": [
       "city\n",
       "Alanton       31.313750\n",
       "Alicemouth    28.145882\n",
       "Annshire      23.280769\n",
       "Arthurland    31.851579\n",
       "Berryland     25.701071\n",
       "Name: fare, dtype: float64"
      ]
     },
     "execution_count": 7,
     "metadata": {},
     "output_type": "execute_result"
    }
   ],
   "source": [
    "avg_fare_per_city = group_by_city_rides_df.fare.mean()\n",
    "avg_fare_per_city.head()"
   ]
  },
  {
   "cell_type": "code",
   "execution_count": 8,
   "metadata": {},
   "outputs": [
    {
     "data": {
      "text/html": [
       "<div>\n",
       "<style scoped>\n",
       "    .dataframe tbody tr th:only-of-type {\n",
       "        vertical-align: middle;\n",
       "    }\n",
       "\n",
       "    .dataframe tbody tr th {\n",
       "        vertical-align: top;\n",
       "    }\n",
       "\n",
       "    .dataframe thead th {\n",
       "        text-align: right;\n",
       "    }\n",
       "</style>\n",
       "<table border=\"1\" class=\"dataframe\">\n",
       "  <thead>\n",
       "    <tr style=\"text-align: right;\">\n",
       "      <th></th>\n",
       "      <th>ride_count</th>\n",
       "      <th>avg_fare</th>\n",
       "    </tr>\n",
       "    <tr>\n",
       "      <th>city</th>\n",
       "      <th></th>\n",
       "      <th></th>\n",
       "    </tr>\n",
       "  </thead>\n",
       "  <tbody>\n",
       "    <tr>\n",
       "      <th>Alanton</th>\n",
       "      <td>8</td>\n",
       "      <td>31.313750</td>\n",
       "    </tr>\n",
       "    <tr>\n",
       "      <th>Alicemouth</th>\n",
       "      <td>17</td>\n",
       "      <td>28.145882</td>\n",
       "    </tr>\n",
       "    <tr>\n",
       "      <th>Annshire</th>\n",
       "      <td>26</td>\n",
       "      <td>23.280769</td>\n",
       "    </tr>\n",
       "    <tr>\n",
       "      <th>Arthurland</th>\n",
       "      <td>19</td>\n",
       "      <td>31.851579</td>\n",
       "    </tr>\n",
       "    <tr>\n",
       "      <th>Berryland</th>\n",
       "      <td>28</td>\n",
       "      <td>25.701071</td>\n",
       "    </tr>\n",
       "  </tbody>\n",
       "</table>\n",
       "</div>"
      ],
      "text/plain": [
       "            ride_count   avg_fare\n",
       "city                             \n",
       "Alanton              8  31.313750\n",
       "Alicemouth          17  28.145882\n",
       "Annshire            26  23.280769\n",
       "Arthurland          19  31.851579\n",
       "Berryland           28  25.701071"
      ]
     },
     "execution_count": 8,
     "metadata": {},
     "output_type": "execute_result"
    }
   ],
   "source": [
    "second_city_df = pd.concat((rides_count_per_city,avg_fare_per_city),axis=1)\n",
    "second_city_df = second_city_df.rename(columns={'ride_id':'ride_count','fare':'avg_fare'})\n",
    "second_city_df.head()"
   ]
  },
  {
   "cell_type": "code",
   "execution_count": 9,
   "metadata": {},
   "outputs": [
    {
     "data": {
      "text/html": [
       "<div>\n",
       "<style scoped>\n",
       "    .dataframe tbody tr th:only-of-type {\n",
       "        vertical-align: middle;\n",
       "    }\n",
       "\n",
       "    .dataframe tbody tr th {\n",
       "        vertical-align: top;\n",
       "    }\n",
       "\n",
       "    .dataframe thead th {\n",
       "        text-align: right;\n",
       "    }\n",
       "</style>\n",
       "<table border=\"1\" class=\"dataframe\">\n",
       "  <thead>\n",
       "    <tr style=\"text-align: right;\">\n",
       "      <th></th>\n",
       "      <th>city</th>\n",
       "      <th>ride_count</th>\n",
       "      <th>avg_fare</th>\n",
       "    </tr>\n",
       "  </thead>\n",
       "  <tbody>\n",
       "    <tr>\n",
       "      <th>0</th>\n",
       "      <td>Alanton</td>\n",
       "      <td>8</td>\n",
       "      <td>31.313750</td>\n",
       "    </tr>\n",
       "    <tr>\n",
       "      <th>1</th>\n",
       "      <td>Alicemouth</td>\n",
       "      <td>17</td>\n",
       "      <td>28.145882</td>\n",
       "    </tr>\n",
       "    <tr>\n",
       "      <th>2</th>\n",
       "      <td>Annshire</td>\n",
       "      <td>26</td>\n",
       "      <td>23.280769</td>\n",
       "    </tr>\n",
       "    <tr>\n",
       "      <th>3</th>\n",
       "      <td>Arthurland</td>\n",
       "      <td>19</td>\n",
       "      <td>31.851579</td>\n",
       "    </tr>\n",
       "    <tr>\n",
       "      <th>4</th>\n",
       "      <td>Berryland</td>\n",
       "      <td>28</td>\n",
       "      <td>25.701071</td>\n",
       "    </tr>\n",
       "  </tbody>\n",
       "</table>\n",
       "</div>"
      ],
      "text/plain": [
       "         city  ride_count   avg_fare\n",
       "0     Alanton           8  31.313750\n",
       "1  Alicemouth          17  28.145882\n",
       "2    Annshire          26  23.280769\n",
       "3  Arthurland          19  31.851579\n",
       "4   Berryland          28  25.701071"
      ]
     },
     "execution_count": 9,
     "metadata": {},
     "output_type": "execute_result"
    }
   ],
   "source": [
    "second_city_df = second_city_df.reset_index()\n",
    "second_city_df.head()"
   ]
  },
  {
   "cell_type": "code",
   "execution_count": 10,
   "metadata": {},
   "outputs": [
    {
     "data": {
      "text/html": [
       "<div>\n",
       "<style scoped>\n",
       "    .dataframe tbody tr th:only-of-type {\n",
       "        vertical-align: middle;\n",
       "    }\n",
       "\n",
       "    .dataframe tbody tr th {\n",
       "        vertical-align: top;\n",
       "    }\n",
       "\n",
       "    .dataframe thead th {\n",
       "        text-align: right;\n",
       "    }\n",
       "</style>\n",
       "<table border=\"1\" class=\"dataframe\">\n",
       "  <thead>\n",
       "    <tr style=\"text-align: right;\">\n",
       "      <th></th>\n",
       "      <th>city</th>\n",
       "      <th>driver_count</th>\n",
       "      <th>type</th>\n",
       "      <th>ride_count</th>\n",
       "      <th>avg_fare</th>\n",
       "    </tr>\n",
       "  </thead>\n",
       "  <tbody>\n",
       "    <tr>\n",
       "      <th>0</th>\n",
       "      <td>Lake Ambermouth</td>\n",
       "      <td>29</td>\n",
       "      <td>Urban</td>\n",
       "      <td>28</td>\n",
       "      <td>22.513929</td>\n",
       "    </tr>\n",
       "    <tr>\n",
       "      <th>1</th>\n",
       "      <td>Danielton</td>\n",
       "      <td>5</td>\n",
       "      <td>Urban</td>\n",
       "      <td>27</td>\n",
       "      <td>24.950741</td>\n",
       "    </tr>\n",
       "    <tr>\n",
       "      <th>2</th>\n",
       "      <td>Nicholasshire</td>\n",
       "      <td>18</td>\n",
       "      <td>Urban</td>\n",
       "      <td>21</td>\n",
       "      <td>21.321429</td>\n",
       "    </tr>\n",
       "    <tr>\n",
       "      <th>3</th>\n",
       "      <td>Owensburgh</td>\n",
       "      <td>55</td>\n",
       "      <td>Urban</td>\n",
       "      <td>23</td>\n",
       "      <td>23.117391</td>\n",
       "    </tr>\n",
       "    <tr>\n",
       "      <th>4</th>\n",
       "      <td>New Alexandrastad</td>\n",
       "      <td>5</td>\n",
       "      <td>Urban</td>\n",
       "      <td>25</td>\n",
       "      <td>26.236000</td>\n",
       "    </tr>\n",
       "  </tbody>\n",
       "</table>\n",
       "</div>"
      ],
      "text/plain": [
       "                city  driver_count   type  ride_count   avg_fare\n",
       "0    Lake Ambermouth            29  Urban          28  22.513929\n",
       "1          Danielton             5  Urban          27  24.950741\n",
       "2      Nicholasshire            18  Urban          21  21.321429\n",
       "3         Owensburgh            55  Urban          23  23.117391\n",
       "4  New Alexandrastad             5  Urban          25  26.236000"
      ]
     },
     "execution_count": 10,
     "metadata": {},
     "output_type": "execute_result"
    }
   ],
   "source": [
    "final_df = pd.merge(city_df,second_city_df,how='inner')\n",
    "final_df.head()"
   ]
  },
  {
   "cell_type": "code",
   "execution_count": 11,
   "metadata": {},
   "outputs": [
    {
     "data": {
      "image/png": "[encoded data removed]",
      "text/plain": [
       "<matplotlib.figure.Figure at 0x1f146672ef0>"
      ]
     },
     "metadata": {},
     "output_type": "display_data"
    }
   ],
   "source": [
    "color_labels = final_df['type'].unique()\n",
    "# List of RGB triplets\n",
    "rgb_values = sns.color_palette(\"Set1\", 3)\n",
    "# Map label to RGB\n",
    "color_map = dict(zip(color_labels, rgb_values))\n",
    "\n",
    "final_df.plot.scatter(x='ride_count',y='avg_fare',s=final_df['driver_count'], \n",
    "                      c=final_df['type'].map(color_map),alpha=0.4,edgecolors='grey',\n",
    "                      linewidth=2,figsize=(20,10),label=final_df['type'].unique())\n",
    "\n",
    "# Add titles (main and on axis)\n",
    "plt.xlabel(\"Total Number of Rides (Per City)\")\n",
    "plt.ylabel(\"Average Fare($)\")\n",
    "plt.title(\"Pyber Ride Sharing Data(2016)\")\n",
    "\n",
    "plt.legend(loc=\"upper right\", fancybox=True)\n",
    "\n",
    "plt.show()\n"
   ]
  },
  {
   "cell_type": "code",
   "execution_count": 12,
   "metadata": {},
   "outputs": [
    {
     "data": {
      "text/html": [
       "<div>\n",
       "<style scoped>\n",
       "    .dataframe tbody tr th:only-of-type {\n",
       "        vertical-align: middle;\n",
       "    }\n",
       "\n",
       "    .dataframe tbody tr th {\n",
       "        vertical-align: top;\n",
       "    }\n",
       "\n",
       "    .dataframe thead th {\n",
       "        text-align: right;\n",
       "    }\n",
       "</style>\n",
       "<table border=\"1\" class=\"dataframe\">\n",
       "  <thead>\n",
       "    <tr style=\"text-align: right;\">\n",
       "      <th></th>\n",
       "      <th>city</th>\n",
       "      <th>driver_count</th>\n",
       "      <th>type</th>\n",
       "      <th>ride_count</th>\n",
       "      <th>avg_fare</th>\n",
       "    </tr>\n",
       "  </thead>\n",
       "  <tbody>\n",
       "    <tr>\n",
       "      <th>0</th>\n",
       "      <td>Lake Ambermouth</td>\n",
       "      <td>29</td>\n",
       "      <td>Urban</td>\n",
       "      <td>28</td>\n",
       "      <td>22.513929</td>\n",
       "    </tr>\n",
       "    <tr>\n",
       "      <th>1</th>\n",
       "      <td>Danielton</td>\n",
       "      <td>5</td>\n",
       "      <td>Urban</td>\n",
       "      <td>27</td>\n",
       "      <td>24.950741</td>\n",
       "    </tr>\n",
       "    <tr>\n",
       "      <th>2</th>\n",
       "      <td>Nicholasshire</td>\n",
       "      <td>18</td>\n",
       "      <td>Urban</td>\n",
       "      <td>21</td>\n",
       "      <td>21.321429</td>\n",
       "    </tr>\n",
       "    <tr>\n",
       "      <th>3</th>\n",
       "      <td>Owensburgh</td>\n",
       "      <td>55</td>\n",
       "      <td>Urban</td>\n",
       "      <td>23</td>\n",
       "      <td>23.117391</td>\n",
       "    </tr>\n",
       "    <tr>\n",
       "      <th>4</th>\n",
       "      <td>New Alexandrastad</td>\n",
       "      <td>5</td>\n",
       "      <td>Urban</td>\n",
       "      <td>25</td>\n",
       "      <td>26.236000</td>\n",
       "    </tr>\n",
       "  </tbody>\n",
       "</table>\n",
       "</div>"
      ],
      "text/plain": [
       "                city  driver_count   type  ride_count   avg_fare\n",
       "0    Lake Ambermouth            29  Urban          28  22.513929\n",
       "1          Danielton             5  Urban          27  24.950741\n",
       "2      Nicholasshire            18  Urban          21  21.321429\n",
       "3         Owensburgh            55  Urban          23  23.117391\n",
       "4  New Alexandrastad             5  Urban          25  26.236000"
      ]
     },
     "execution_count": 12,
     "metadata": {},
     "output_type": "execute_result"
    }
   ],
   "source": [
    "final_df.head()"
   ]
  },
  {
   "cell_type": "code",
   "execution_count": 13,
   "metadata": {},
   "outputs": [
    {
     "data": {
      "text/html": [
       "<div>\n",
       "<style scoped>\n",
       "    .dataframe tbody tr th:only-of-type {\n",
       "        vertical-align: middle;\n",
       "    }\n",
       "\n",
       "    .dataframe tbody tr th {\n",
       "        vertical-align: top;\n",
       "    }\n",
       "\n",
       "    .dataframe thead th {\n",
       "        text-align: right;\n",
       "    }\n",
       "</style>\n",
       "<table border=\"1\" class=\"dataframe\">\n",
       "  <thead>\n",
       "    <tr style=\"text-align: right;\">\n",
       "      <th></th>\n",
       "      <th>city</th>\n",
       "      <th>driver_count</th>\n",
       "      <th>type</th>\n",
       "      <th>ride_count</th>\n",
       "      <th>avg_fare</th>\n",
       "      <th>total_fare</th>\n",
       "    </tr>\n",
       "  </thead>\n",
       "  <tbody>\n",
       "    <tr>\n",
       "      <th>0</th>\n",
       "      <td>Lake Ambermouth</td>\n",
       "      <td>29</td>\n",
       "      <td>Urban</td>\n",
       "      <td>28</td>\n",
       "      <td>22.513929</td>\n",
       "      <td>630.39</td>\n",
       "    </tr>\n",
       "    <tr>\n",
       "      <th>1</th>\n",
       "      <td>Danielton</td>\n",
       "      <td>5</td>\n",
       "      <td>Urban</td>\n",
       "      <td>27</td>\n",
       "      <td>24.950741</td>\n",
       "      <td>673.67</td>\n",
       "    </tr>\n",
       "    <tr>\n",
       "      <th>2</th>\n",
       "      <td>Nicholasshire</td>\n",
       "      <td>18</td>\n",
       "      <td>Urban</td>\n",
       "      <td>21</td>\n",
       "      <td>21.321429</td>\n",
       "      <td>447.75</td>\n",
       "    </tr>\n",
       "    <tr>\n",
       "      <th>3</th>\n",
       "      <td>Owensburgh</td>\n",
       "      <td>55</td>\n",
       "      <td>Urban</td>\n",
       "      <td>23</td>\n",
       "      <td>23.117391</td>\n",
       "      <td>531.70</td>\n",
       "    </tr>\n",
       "    <tr>\n",
       "      <th>4</th>\n",
       "      <td>New Alexandrastad</td>\n",
       "      <td>5</td>\n",
       "      <td>Urban</td>\n",
       "      <td>25</td>\n",
       "      <td>26.236000</td>\n",
       "      <td>655.90</td>\n",
       "    </tr>\n",
       "  </tbody>\n",
       "</table>\n",
       "</div>"
      ],
      "text/plain": [
       "                city  driver_count   type  ride_count   avg_fare  total_fare\n",
       "0    Lake Ambermouth            29  Urban          28  22.513929      630.39\n",
       "1          Danielton             5  Urban          27  24.950741      673.67\n",
       "2      Nicholasshire            18  Urban          21  21.321429      447.75\n",
       "3         Owensburgh            55  Urban          23  23.117391      531.70\n",
       "4  New Alexandrastad             5  Urban          25  26.236000      655.90"
      ]
     },
     "execution_count": 13,
     "metadata": {},
     "output_type": "execute_result"
    }
   ],
   "source": [
    "final_df['total_fare'] = final_df['ride_count']*final_df['avg_fare']\n",
    "final_df.head()"
   ]
  },
  {
   "cell_type": "code",
   "execution_count": 14,
   "metadata": {},
   "outputs": [
    {
     "data": {
      "text/plain": [
       "type\n",
       "Rural        4450.07\n",
       "Suburban    19689.77\n",
       "Urban       40785.84\n",
       "Name: total_fare, dtype: float64"
      ]
     },
     "execution_count": 14,
     "metadata": {},
     "output_type": "execute_result"
    }
   ],
   "source": [
    "total_fare_per_city_type = final_df.groupby('type').total_fare.sum()\n",
    "total_fare_per_city_type"
   ]
  },
  {
   "cell_type": "code",
   "execution_count": 15,
   "metadata": {},
   "outputs": [
    {
     "data": {
      "text/plain": [
       "([<matplotlib.patches.Wedge at 0x1f146aef390>,\n",
       "  <matplotlib.patches.Wedge at 0x1f146aefd30>,\n",
       "  <matplotlib.patches.Wedge at 0x1f146ab37f0>],\n",
       " [Text(-0.256401,1.17229,'Rural'),\n",
       "  Text(-1.08074,0.204937,'Suburban'),\n",
       "  Text(1.01199,-0.431124,'Urban')],\n",
       " [Text(-0.149567,0.683834,'6.9%'),\n",
       "  Text(-0.589495,0.111784,'30.3%'),\n",
       "  Text(0.551997,-0.235158,'62.8%')])"
      ]
     },
     "execution_count": 15,
     "metadata": {},
     "output_type": "execute_result"
    },
    {
     "data": {
      "image/png": "[encoded data removed]",
      "text/plain": [
       "<matplotlib.figure.Figure at 0x1f146aa1d30>"
      ]
     },
     "metadata": {},
     "output_type": "display_data"
    }
   ],
   "source": [
    "labels = [\"Rural\", \"Suburban\", \"Urban\"]\n",
    "sizes = total_fare_per_city_type\n",
    "colors = [\"Gold\", \"lightskyBlue\", \"lightCoral\"]\n",
    "explode = (0.1, 0, 0)\n",
    "plt.pie(sizes,explode=explode,labels=labels,colors=colors,autopct=\"%1.1f%%\", shadow=True, startangle=90)"
   ]
  },
  {
   "cell_type": "code",
   "execution_count": 16,
   "metadata": {},
   "outputs": [
    {
     "data": {
      "text/plain": [
       "type\n",
       "Rural        125\n",
       "Suburban     651\n",
       "Urban       1637\n",
       "Name: ride_count, dtype: int64"
      ]
     },
     "execution_count": 16,
     "metadata": {},
     "output_type": "execute_result"
    }
   ],
   "source": [
    "total_ride_per_city_type = final_df.groupby('type').ride_count.sum()\n",
    "total_ride_per_city_type"
   ]
  },
  {
   "cell_type": "code",
   "execution_count": 17,
   "metadata": {},
   "outputs": [
    {
     "data": {
      "text/plain": [
       "([<matplotlib.patches.Wedge at 0x1f146b42c18>,\n",
       "  <matplotlib.patches.Wedge at 0x1f146b4b6a0>,\n",
       "  <matplotlib.patches.Wedge at 0x1f146b53160>],\n",
       " [Text(-0.194431,1.18414,'Rural'),\n",
       "  Text(-1.01413,0.426073,'Suburban'),\n",
       "  Text(0.931696,-0.584759,'Urban')],\n",
       " [Text(-0.113418,0.690751,'5.2%'),\n",
       "  Text(-0.553162,0.232404,'27.0%'),\n",
       "  Text(0.508198,-0.318959,'67.8%')])"
      ]
     },
     "execution_count": 17,
     "metadata": {},
     "output_type": "execute_result"
    },
    {
     "data": {
      "image/png": "[encoded data removed]",
      "text/plain": [
       "<matplotlib.figure.Figure at 0x1f146abff98>"
      ]
     },
     "metadata": {},
     "output_type": "display_data"
    }
   ],
   "source": [
    "labels = [\"Rural\", \"Suburban\", \"Urban\"]\n",
    "sizes = total_ride_per_city_type\n",
    "colors = [\"Gold\", \"lightskyBlue\", \"lightCoral\"]\n",
    "explode = (0.1, 0, 0)\n",
    "plt.pie(sizes,explode=explode,labels=labels,colors=colors,autopct=\"%1.1f%%\", shadow=True, startangle=90)"
   ]
  },
  {
   "cell_type": "code",
   "execution_count": 18,
   "metadata": {},
   "outputs": [
    {
     "data": {
      "text/plain": [
       "type\n",
       "Rural         85\n",
       "Suburban     524\n",
       "Urban       2405\n",
       "Name: driver_count, dtype: int64"
      ]
     },
     "execution_count": 18,
     "metadata": {},
     "output_type": "execute_result"
    }
   ],
   "source": [
    "total_driver_per_city_type = final_df.groupby('type').driver_count.sum()\n",
    "total_driver_per_city_type"
   ]
  },
  {
   "cell_type": "code",
   "execution_count": 19,
   "metadata": {},
   "outputs": [
    {
     "data": {
      "text/plain": [
       "([<matplotlib.patches.Wedge at 0x1f146b9b240>,\n",
       "  <matplotlib.patches.Wedge at 0x1f146b9bc50>,\n",
       "  <matplotlib.patches.Wedge at 0x1f146ba5710>],\n",
       " [Text(-0.106179,1.19529,'Rural'),\n",
       "  Text(-0.728114,0.82453,'Suburban'),\n",
       "  Text(0.652301,-0.885722,'Urban')],\n",
       " [Text(-0.0619377,0.697254,'2.8%'),\n",
       "  Text(-0.397153,0.449744,'17.4%'),\n",
       "  Text(0.355801,-0.483121,'79.8%')])"
      ]
     },
     "execution_count": 19,
     "metadata": {},
     "output_type": "execute_result"
    },
    {
     "data": {
      "image/png": "[encoded data removed]",
      "text/plain": [
       "<matplotlib.figure.Figure at 0x1f146b12cf8>"
      ]
     },
     "metadata": {},
     "output_type": "display_data"
    }
   ],
   "source": [
    "labels = [\"Rural\", \"Suburban\", \"Urban\"]\n",
    "sizes = total_driver_per_city_type\n",
    "colors = [\"Gold\", \"lightskyBlue\", \"lightCoral\"]\n",
    "explode = (0.1, 0, 0)\n",
    "plt.pie(sizes,explode=explode,labels=labels,colors=colors,autopct=\"%1.1f%%\", shadow=True, startangle=90)"
   ]
  },
  {
   "cell_type": "code",
   "execution_count": null,
   "metadata": {},
   "outputs": [],
   "source": []
  },
  {
   "cell_type": "code",
   "execution_count": null,
   "metadata": {},
   "outputs": [],
   "source": []
  },
  {
   "cell_type": "code",
   "execution_count": null,
   "metadata": {},
   "outputs": [],
   "source": []
  }
 ],
 "metadata": {
  "kernelspec": {
   "display_name": "Python 3",
   "language": "python",
   "name": "python3"
  },
  "language_info": {
   "codemirror_mode": {
    "name": "ipython",
    "version": 3
   },
   "file_extension": ".py",
   "mimetype": "text/x-python",
   "name": "python",
   "nbconvert_exporter": "python",
   "pygments_lexer": "ipython3",
   "version": "3.6.4"
  }
 },
 "nbformat": 4,
 "nbformat_minor": 2
}
